{
 "cells": [
  {
   "attachments": {},
   "cell_type": "markdown",
   "metadata": {},
   "source": [
    "<h1 style='color: blue; font-size: 34px; font-weight: bold;'> Projeto Proposto \n",
    "</h1>\n",
    "\n",
    "<p style='font-size: 18px; line-height: 2; margin: 0px 0px; text-align: justify; text-indent: 0px;'>    \n",
    "<i> Este projeto baseia-se no Estudo das Técnicas de Deep Learning - Redes Neurais Artificiais. </i>       \n",
    "</p>  "
   ]
  },
  {
   "cell_type": "markdown",
   "metadata": {},
   "source": [
    "> CONSULTAR :\n",
    "\n",
    "https://didatica.tech/introducao-a-redes-neurais-e-deep-learning/\n",
    "\n",
    "https://www.youtube.com/watch?v=GByl_PEo94M&list=PLFE-LjWAAP9R4G0WOXWuha4P5cCvw7hGB&index=16&ab_channel=DataICMC\n",
    "\n",
    "https://medium.com/ensina-ai/redes-neurais-roots-1-introdu%C3%A7%C3%A3o-ffdd6f8b9f01\n",
    "\n",
    "https://medium.com/ensina-ai/redes-neurais-roots-2-treinamento-3161a439c4f3\n",
    "\n",
    "https://medium.com/ensina-ai/redes-neurais-roots-3-show-me-the-code-e56359310083\n",
    "\n",
    "https://www.youtube.com/watch?v=fEukSrpDPH0&list=PLtQM10PgmGogjn0cikgWi8wpQUnV6ERkY&index=9&ab_channel=DiogoCortiz\n",
    "\n",
    "https://www.youtube.com/watch?v=0eQ6-6A5W6I&list=PLtQM10PgmGogjn0cikgWi8wpQUnV6ERkY&index=10&ab_channel=DiogoCortiz\n",
    "\n",
    "https://www.youtube.com/watch?v=WPxV5WXP3OM&list=PL-t7zzWJWPtygNTsgC_M8c9a-p5biCjho&ab_channel=UniversoDiscreto\n",
    "\n",
    "https://www.youtube.com/watch?v=CqOfi41LfDw&list=PLblh5JKOoLUIxGDQs4LFFD--41Vzf-ME1&ab_channel=StatQuestwithJoshStarmer"
   ]
  },
  {
   "cell_type": "markdown",
   "metadata": {},
   "source": [
    "# <font color='red' style='font-size: 40px;'> Library  </font>"
   ]
  },
  {
   "cell_type": "code",
   "execution_count": 1,
   "metadata": {},
   "outputs": [],
   "source": [
    "import pandas as pd \n",
    "import numpy as np\n",
    "import scipy as sp \n",
    "import matplotlib.pyplot as plt\n",
    "import seaborn as sns \n",
    "import warnings\n",
    "\n",
    "\n",
    "\n",
    "%matplotlib inline\n",
    "sns.set()\n",
    "plt.rcParams['font.family'] = 'Arial'\n",
    "plt.rcParams['font.size'] = '14'\n",
    "plt.rcParams['figure.figsize'] = [10, 5]\n",
    "pd.set_option('display.max_rows', 100)\n",
    "pd.set_option('display.max_columns', 100)\n",
    "pd.set_option('display.float_format', lambda x: '%.2f' % x) # Tira os números do formato de Notação Científica\n",
    "np.set_printoptions(suppress=True) # Tira os números do formato de Notação Científica em Numpy Arrays\n",
    "warnings.filterwarnings('ignore') # Remove Warnings\n",
    "warnings.simplefilter(action='ignore', category=FutureWarning) # Retira Future Warnings"
   ]
  },
  {
   "attachments": {},
   "cell_type": "markdown",
   "metadata": {},
   "source": [
    "# <font color='red' style='font-size: 40px;'> 1.0) Introdução as Redes Neurais </font>"
   ]
  },
  {
   "attachments": {},
   "cell_type": "markdown",
   "metadata": {},
   "source": [
    "## 1.1) Introdução às Redes Neurais\n",
    "\n",
    "<img src=\"./img01.png\" width=\"70%\">\n",
    "<img src=\"./img02.png\" width=\"70%\">\n",
    "<img src=\"./img03.png\" width=\"70%\">\n",
    "<img src=\"./img04.png\" width=\"70%\">\n",
    "<img src=\"./img05.png\" width=\"70%\">"
   ]
  },
  {
   "cell_type": "markdown",
   "metadata": {},
   "source": [
    "# <font color='red' style='font-size: 40px;'> 2.0) Redes Neurais Artificiais - Conceitos Teóricos </font>"
   ]
  },
  {
   "attachments": {},
   "cell_type": "markdown",
   "metadata": {},
   "source": [
    "## 2.1) Neurônio Biológico, Neurônio Artificial e Redes Neurais\n",
    "\n",
    "<img src=\"./img06.png\" width=\"70%\">\n",
    "<img src=\"./img07.png\" width=\"70%\">\n",
    "<img src=\"./img08.png\" width=\"70%\">\n",
    "<img src=\"./img09.png\" width=\"70%\">\n",
    "<img src=\"./img10.png\" width=\"70%\">\n",
    "<img src=\"./img11.png\" width=\"70%\">\n",
    "<img src=\"./img12.png\" width=\"70%\">\n",
    "<img src=\"./img13.png\" width=\"70%\">\n"
   ]
  },
  {
   "cell_type": "markdown",
   "metadata": {},
   "source": [
    "## 2.2) Principais Tipos de Redes Neurais \n",
    "\n",
    "<img src=\"./img14.png\" width=\"70%\">"
   ]
  },
  {
   "cell_type": "markdown",
   "metadata": {},
   "source": [
    "## 2.3) Perceptron\n",
    "\n",
    "<img src=\"./img15.png\" width=\"70%\">\n",
    "<img src=\"./img16.png\" width=\"70%\">\n",
    "<img src=\"./img17.png\" width=\"70%\">\n",
    "<img src=\"./img18.png\" width=\"70%\">\n",
    "\n",
    "\n"
   ]
  },
  {
   "attachments": {},
   "cell_type": "markdown",
   "metadata": {},
   "source": [
    "## 2.4) Função de Ativação \n",
    "\n",
    "#### Sendo cada Neurônio uma \"combinação\": X1 (Neurônio Gênero Masculino), X2 (Neurônio Gênero Feminino), X3 (Neurônio Estado Civil Casado), X4 (Neurônio Estado Civil Viúva), X6 (Neurônio Estado Civil Solteiro)...Xn (Neurônio i,j)\n",
    "<img src=\"./img19.png\" width=\"70%\">\n",
    "<img src=\"./img20.png\" width=\"70%\">\n",
    "<img src=\"./img21.png\" width=\"70%\">\n",
    "<img src=\"./img22.png\" width=\"70%\">\n",
    "<img src=\"./img23.png\" width=\"70%\">\n",
    "<img src=\"./img24.png\" width=\"70%\">\n",
    "<img src=\"./img25.png\" width=\"70%\">\n",
    "<img src=\"./img26.png\" width=\"70%\">\n",
    "<img src=\"./img27.png\" width=\"70%\">\n",
    "\n",
    "\n"
   ]
  },
  {
   "attachments": {},
   "cell_type": "markdown",
   "metadata": {},
   "source": [
    "## 2.5) Aprendizagem nas Redes Neurais Artificiais \n",
    "\n",
    "<img src=\"./img27.png\" width=\"70%\">\n",
    "<img src=\"./img28.png\" width=\"70%\">\n",
    "<img src=\"./img29.png\" width=\"70%\">\n",
    "<img src=\"./img30.png\" width=\"70%\">\n",
    "<img src=\"./img31.png\" width=\"70%\">\n",
    "<img src=\"./img32.png\" width=\"70%\">\n",
    "<img src=\"./img33.png\" width=\"70%\">\n",
    "<img src=\"./img34.png\" width=\"70%\">\n",
    "\n",
    "\n"
   ]
  },
  {
   "attachments": {},
   "cell_type": "markdown",
   "metadata": {},
   "source": [
    "## 2.6) Aprendizagem com Gradiente Descendente \n",
    "\n",
    "<img src=\"./img36.png\" width=\"70%\">\n",
    "<img src=\"./img35.png\" width=\"70%\">\n",
    "<img src=\"./img37.png\" width=\"70%\">\n",
    "<img src=\"./img38.png\" width=\"70%\">\n",
    "<img src=\"./img39.png\" width=\"70%\">\n",
    "\n",
    "\n"
   ]
  },
  {
   "attachments": {},
   "cell_type": "markdown",
   "metadata": {},
   "source": [
    "## 2.7) Cálculo dos Erros\n",
    "\n",
    "<img src=\"./img40.png\" width=\"70%\">\n",
    "<img src=\"./img41.png\" width=\"70%\">\n",
    "<img src=\"./img42.png\" width=\"70%\">\n",
    "<img src=\"./img43.png\" width=\"70%\">\n"
   ]
  },
  {
   "attachments": {},
   "cell_type": "markdown",
   "metadata": {},
   "source": [
    "## 2.8) Topologia das Redes Neurais  \n",
    "\n",
    "<img src=\"./img44.png\" width=\"70%\">\n",
    "<img src=\"./img45.png\" width=\"70%\">\n",
    "<img src=\"./img46.png\" width=\"70%\">\n",
    "<img src=\"./img47.png\" width=\"70%\">\n",
    "<img src=\"./img48.png\" width=\"70%\">"
   ]
  },
  {
   "attachments": {},
   "cell_type": "markdown",
   "metadata": {},
   "source": [
    "## 2.9) Algoritmo Backpropagation\n",
    "\n",
    "<img src=\"./img49.png\" width=\"70%\">\n",
    "<img src=\"./img50.png\" width=\"70%\">\n"
   ]
  },
  {
   "attachments": {},
   "cell_type": "markdown",
   "metadata": {},
   "source": [
    "## 2.10) Definição dos Parâmetros \n",
    "\n",
    "<img src=\"./img50.png\" width=\"70%\">\n",
    "<img src=\"./img51.png\" width=\"70%\">\n",
    "<img src=\"./img52.png\" width=\"70%\">\n",
    "<img src=\"./img53.png\" width=\"70%\">\n",
    "<img src=\"./img54.png\" width=\"70%\">\n",
    "<img src=\"./img55.png\" width=\"70%\">\n",
    "<img src=\"./img56.png\" width=\"70%\">\n"
   ]
  },
  {
   "cell_type": "markdown",
   "metadata": {},
   "source": [
    "# <font color='red' style='font-size: 40px;'> 3.0) Redes Neurais Artificiais - Classificação </font>\n",
    "\n"
   ]
  },
  {
   "attachments": {},
   "cell_type": "markdown",
   "metadata": {},
   "source": [
    "## **Análise Socioeconômica do Estado de Minas Gerais**\n",
    "\n",
    "Este projeto tem por objetivo utilizar Algoritmos de Redes Neurais Artificiais para realizar uma Análise Socioeconômica do Estado de Minas Gerais utilizando as respostas dos questionários dos inscritos no Enem de 2019.\n",
    "\n",
    "Para este caso, o Dataset já passou por um Preparação e Tratamento anteriores.  "
   ]
  },
  {
   "cell_type": "code",
   "execution_count": 20,
   "metadata": {},
   "outputs": [],
   "source": [
    "import pandas as pd \n",
    "import numpy as np\n",
    "import scipy as sp \n",
    "import matplotlib.pyplot as plt\n",
    "import seaborn as sns \n",
    "import warnings\n",
    "from sklearn.preprocessing import LabelEncoder, OneHotEncoder, StandardScaler\n",
    "from sklearn.model_selection import train_test_split, StratifiedKFold, cross_val_score\n",
    "from sklearn.compose import ColumnTransformer\n",
    "from sklearn.neural_network import MLPClassifier\n",
    "from sklearn.metrics import confusion_matrix, accuracy_score, classification_report\n",
    "\n",
    "%matplotlib inline\n",
    "sns.set()\n",
    "plt.rcParams['font.family'] = 'Arial'\n",
    "plt.rcParams['font.size'] = '14'\n",
    "plt.rcParams['figure.figsize'] = [10, 5]\n",
    "pd.set_option('display.max_rows', 100)\n",
    "pd.set_option('display.max_columns', 100)\n",
    "pd.set_option('display.float_format', lambda x: '%.2f' % x) # Tira os números do formato de Notação Científica\n",
    "np.set_printoptions(suppress=True) # Tira os números do formato de Notação Científica em Numpy Arrays\n",
    "warnings.filterwarnings('ignore') # Remove Warnings\n",
    "warnings.simplefilter(action='ignore', category=FutureWarning) # Retira Future Warnings"
   ]
  },
  {
   "cell_type": "code",
   "execution_count": 3,
   "metadata": {},
   "outputs": [
    {
     "name": "stdout",
     "output_type": "stream",
     "text": [
      "(538896, 18)\n",
      "Q005     int64\n",
      "Q006    object\n",
      "Q007    object\n",
      "Q008    object\n",
      "Q009    object\n",
      "Q010    object\n",
      "Q011    object\n",
      "Q012    object\n",
      "Q014    object\n",
      "Q015    object\n",
      "Q016    object\n",
      "Q017    object\n",
      "Q019    object\n",
      "Q021    object\n",
      "Q022    object\n",
      "Q023    object\n",
      "Q024    object\n",
      "Q025    object\n",
      "dtype: object\n"
     ]
    },
    {
     "data": {
      "text/html": [
       "<div>\n",
       "<style scoped>\n",
       "    .dataframe tbody tr th:only-of-type {\n",
       "        vertical-align: middle;\n",
       "    }\n",
       "\n",
       "    .dataframe tbody tr th {\n",
       "        vertical-align: top;\n",
       "    }\n",
       "\n",
       "    .dataframe thead th {\n",
       "        text-align: right;\n",
       "    }\n",
       "</style>\n",
       "<table border=\"1\" class=\"dataframe\">\n",
       "  <thead>\n",
       "    <tr style=\"text-align: right;\">\n",
       "      <th></th>\n",
       "      <th>Q005</th>\n",
       "      <th>Q006</th>\n",
       "      <th>Q007</th>\n",
       "      <th>Q008</th>\n",
       "      <th>Q009</th>\n",
       "      <th>Q010</th>\n",
       "      <th>Q011</th>\n",
       "      <th>Q012</th>\n",
       "      <th>Q014</th>\n",
       "      <th>Q015</th>\n",
       "      <th>Q016</th>\n",
       "      <th>Q017</th>\n",
       "      <th>Q019</th>\n",
       "      <th>Q021</th>\n",
       "      <th>Q022</th>\n",
       "      <th>Q023</th>\n",
       "      <th>Q024</th>\n",
       "      <th>Q025</th>\n",
       "    </tr>\n",
       "  </thead>\n",
       "  <tbody>\n",
       "    <tr>\n",
       "      <th>0</th>\n",
       "      <td>3</td>\n",
       "      <td>I</td>\n",
       "      <td>A</td>\n",
       "      <td>C</td>\n",
       "      <td>D</td>\n",
       "      <td>B</td>\n",
       "      <td>A</td>\n",
       "      <td>B</td>\n",
       "      <td>B</td>\n",
       "      <td>A</td>\n",
       "      <td>B</td>\n",
       "      <td>A</td>\n",
       "      <td>D</td>\n",
       "      <td>A</td>\n",
       "      <td>D</td>\n",
       "      <td>B</td>\n",
       "      <td>B</td>\n",
       "      <td>B</td>\n",
       "    </tr>\n",
       "    <tr>\n",
       "      <th>1</th>\n",
       "      <td>5</td>\n",
       "      <td>D</td>\n",
       "      <td>A</td>\n",
       "      <td>B</td>\n",
       "      <td>C</td>\n",
       "      <td>A</td>\n",
       "      <td>B</td>\n",
       "      <td>B</td>\n",
       "      <td>A</td>\n",
       "      <td>A</td>\n",
       "      <td>A</td>\n",
       "      <td>A</td>\n",
       "      <td>B</td>\n",
       "      <td>A</td>\n",
       "      <td>C</td>\n",
       "      <td>A</td>\n",
       "      <td>A</td>\n",
       "      <td>A</td>\n",
       "    </tr>\n",
       "    <tr>\n",
       "      <th>2</th>\n",
       "      <td>3</td>\n",
       "      <td>F</td>\n",
       "      <td>A</td>\n",
       "      <td>B</td>\n",
       "      <td>D</td>\n",
       "      <td>A</td>\n",
       "      <td>A</td>\n",
       "      <td>B</td>\n",
       "      <td>B</td>\n",
       "      <td>B</td>\n",
       "      <td>A</td>\n",
       "      <td>A</td>\n",
       "      <td>C</td>\n",
       "      <td>A</td>\n",
       "      <td>C</td>\n",
       "      <td>A</td>\n",
       "      <td>A</td>\n",
       "      <td>B</td>\n",
       "    </tr>\n",
       "    <tr>\n",
       "      <th>3</th>\n",
       "      <td>3</td>\n",
       "      <td>P</td>\n",
       "      <td>B</td>\n",
       "      <td>D</td>\n",
       "      <td>D</td>\n",
       "      <td>C</td>\n",
       "      <td>A</td>\n",
       "      <td>B</td>\n",
       "      <td>B</td>\n",
       "      <td>A</td>\n",
       "      <td>B</td>\n",
       "      <td>A</td>\n",
       "      <td>B</td>\n",
       "      <td>A</td>\n",
       "      <td>D</td>\n",
       "      <td>A</td>\n",
       "      <td>D</td>\n",
       "      <td>B</td>\n",
       "    </tr>\n",
       "    <tr>\n",
       "      <th>4</th>\n",
       "      <td>3</td>\n",
       "      <td>D</td>\n",
       "      <td>A</td>\n",
       "      <td>B</td>\n",
       "      <td>D</td>\n",
       "      <td>B</td>\n",
       "      <td>B</td>\n",
       "      <td>B</td>\n",
       "      <td>A</td>\n",
       "      <td>A</td>\n",
       "      <td>A</td>\n",
       "      <td>A</td>\n",
       "      <td>B</td>\n",
       "      <td>A</td>\n",
       "      <td>C</td>\n",
       "      <td>A</td>\n",
       "      <td>B</td>\n",
       "      <td>A</td>\n",
       "    </tr>\n",
       "  </tbody>\n",
       "</table>\n",
       "</div>"
      ],
      "text/plain": [
       "   Q005 Q006 Q007 Q008 Q009 Q010 Q011 Q012 Q014 Q015 Q016 Q017 Q019 Q021 Q022  \\\n",
       "0     3    I    A    C    D    B    A    B    B    A    B    A    D    A    D   \n",
       "1     5    D    A    B    C    A    B    B    A    A    A    A    B    A    C   \n",
       "2     3    F    A    B    D    A    A    B    B    B    A    A    C    A    C   \n",
       "3     3    P    B    D    D    C    A    B    B    A    B    A    B    A    D   \n",
       "4     3    D    A    B    D    B    B    B    A    A    A    A    B    A    C   \n",
       "\n",
       "  Q023 Q024 Q025  \n",
       "0    B    B    B  \n",
       "1    A    A    A  \n",
       "2    A    A    B  \n",
       "3    A    D    B  \n",
       "4    A    B    A  "
      ]
     },
     "execution_count": 3,
     "metadata": {},
     "output_type": "execute_result"
    }
   ],
   "source": [
    "dados_tratados = pd.read_csv('dados_tratados.csv', sep = ',', encoding = 'iso-8859-1')\n",
    "print(dados_tratados.shape)\n",
    "print(dados_tratados.dtypes)\n",
    "dados_tratados.head()"
   ]
  },
  {
   "cell_type": "code",
   "execution_count": 4,
   "metadata": {},
   "outputs": [
    {
     "name": "stdout",
     "output_type": "stream",
     "text": [
      "Variáveis Preditoras: (538896, 105)\n",
      "Variável Target: (538896,)\n"
     ]
    }
   ],
   "source": [
    "x = dados_tratados.iloc[:, 0:17].values\n",
    "y = dados_tratados.iloc[:, 17].values\n",
    "\n",
    "transformacao_x = ColumnTransformer([('transformacao', OneHotEncoder(), [0,1,2,3,4,5,6,7,8,9,10,11,12,13,14,15,16])], remainder = 'passthrough')\n",
    "x = transformacao_x.fit_transform(x).toarray()\n",
    "\n",
    "transformacao_y = LabelEncoder()\n",
    "y = transformacao_y.fit_transform(y)\n",
    "\n",
    "print(f'Variáveis Preditoras: {x.shape}')\n",
    "print(f'Variável Target: {y.shape}')"
   ]
  },
  {
   "cell_type": "code",
   "execution_count": 9,
   "metadata": {},
   "outputs": [
    {
     "name": "stdout",
     "output_type": "stream",
     "text": [
      "(458061, 105)\n",
      "(458061,)\n",
      "(80835, 105)\n",
      "(80835,)\n"
     ]
    }
   ],
   "source": [
    "x_train, x_test, y_train, y_test = train_test_split(x, y, test_size = 0.15, random_state = 42)\n",
    "print(x_train.shape)\n",
    "print(y_train.shape)\n",
    "print(x_test.shape)\n",
    "print(y_test.shape)"
   ]
  },
  {
   "attachments": {},
   "cell_type": "markdown",
   "metadata": {},
   "source": [
    "#### Parâmetros MLPClassifier   \n",
    "\n",
    "- hidden_layer_sizes (camadas escondidas): default (100,)   \n",
    "\n",
    "  Quant.= (Ne+Ns)/2 = (105+1)/2 = 53 neurônios   \n",
    "  Quant.=2/3.(Ne) + Ns = 2/3.105+1 = 71 neurônios\n",
    "- activation: Função de ativação na camada oculta default='relu' \n",
    "- solver: algoritmo matemático. Default='adam' (datasets grandes = acima de 1000 amostras). lbfgs é para datasets pequenos. sgd é com a descida do gradiente estocástico (recomendado testar).\n",
    "- alpha:  parâmetro para o termo de regularização de ajuste de pesos. Aumento de alpha estimula pesos menores e diminuição de alpha estimula pesos maiores. Default=0.0001.\n",
    "- batch_size: tamanho dos mini lotes. default=min(200, n_samples). Não usar com o solver lbfgs.\n",
    "- learning_rate: taxa de aprendizagem. default='constant'. Três tipos:   \n",
    "  1- 'constant':uma taxa de aprendizado constante dada pela taxa de aprendizagem inicial.   \n",
    "  2- 'invscaling': diminui gradualmente por: taxa efetiva = taxa inicial / t^power_t  \n",
    "  3- 'adaptive': a taxa é dividida por 5 cada vez que em duas épocas consecutivas não diminuir o erro.\n",
    "- learning_rate_init: taxa de aprendizagem inicial. Default=0.001\n",
    "- power_t: default=0.5. usado apenas para solver 'sgd'.\n",
    "- max_iter int: Número máximo de iterações. default = 200.  ('sgd', 'adam').\n",
    "- max_fun: Número máximo de chamadas de função de perda. Para 'lbfgs'. Default: 15000\n",
    "- shuffle: default = True\n",
    "Usado apenas quando solver = 'sgd' ou 'adam'.\n",
    "- random_state: default = None\n",
    "- tol:Tolerância para a otimização.Default=0.0001\n",
    "- momentum: otimização do algoritmo 'sgd'. Default: 0.9.\n",
    "- n_iter_no_change: Número máximo de épocas que não atinge a tolerância de melhoria. default = 10. Apenas para solver = 'sgd' ou 'adam'\n",
    "- verbose : Mostra o progresso. default=False."
   ]
  },
  {
   "cell_type": "code",
   "execution_count": 7,
   "metadata": {},
   "outputs": [
    {
     "name": "stdout",
     "output_type": "stream",
     "text": [
      "\u001b[1;31mInit signature:\u001b[0m\n",
      "\u001b[0mMLPClassifier\u001b[0m\u001b[1;33m(\u001b[0m\u001b[1;33m\n",
      "\u001b[0m    \u001b[0mhidden_layer_sizes\u001b[0m\u001b[1;33m=\u001b[0m\u001b[1;33m(\u001b[0m\u001b[1;36m100\u001b[0m\u001b[1;33m,\u001b[0m\u001b[1;33m)\u001b[0m\u001b[1;33m,\u001b[0m\u001b[1;33m\n",
      "\u001b[0m    \u001b[0mactivation\u001b[0m\u001b[1;33m=\u001b[0m\u001b[1;34m'relu'\u001b[0m\u001b[1;33m,\u001b[0m\u001b[1;33m\n",
      "\u001b[0m    \u001b[1;33m*\u001b[0m\u001b[1;33m,\u001b[0m\u001b[1;33m\n",
      "\u001b[0m    \u001b[0msolver\u001b[0m\u001b[1;33m=\u001b[0m\u001b[1;34m'adam'\u001b[0m\u001b[1;33m,\u001b[0m\u001b[1;33m\n",
      "\u001b[0m    \u001b[0malpha\u001b[0m\u001b[1;33m=\u001b[0m\u001b[1;36m0.0001\u001b[0m\u001b[1;33m,\u001b[0m\u001b[1;33m\n",
      "\u001b[0m    \u001b[0mbatch_size\u001b[0m\u001b[1;33m=\u001b[0m\u001b[1;34m'auto'\u001b[0m\u001b[1;33m,\u001b[0m\u001b[1;33m\n",
      "\u001b[0m    \u001b[0mlearning_rate\u001b[0m\u001b[1;33m=\u001b[0m\u001b[1;34m'constant'\u001b[0m\u001b[1;33m,\u001b[0m\u001b[1;33m\n",
      "\u001b[0m    \u001b[0mlearning_rate_init\u001b[0m\u001b[1;33m=\u001b[0m\u001b[1;36m0.001\u001b[0m\u001b[1;33m,\u001b[0m\u001b[1;33m\n",
      "\u001b[0m    \u001b[0mpower_t\u001b[0m\u001b[1;33m=\u001b[0m\u001b[1;36m0.5\u001b[0m\u001b[1;33m,\u001b[0m\u001b[1;33m\n",
      "\u001b[0m    \u001b[0mmax_iter\u001b[0m\u001b[1;33m=\u001b[0m\u001b[1;36m200\u001b[0m\u001b[1;33m,\u001b[0m\u001b[1;33m\n",
      "\u001b[0m    \u001b[0mshuffle\u001b[0m\u001b[1;33m=\u001b[0m\u001b[1;32mTrue\u001b[0m\u001b[1;33m,\u001b[0m\u001b[1;33m\n",
      "\u001b[0m    \u001b[0mrandom_state\u001b[0m\u001b[1;33m=\u001b[0m\u001b[1;32mNone\u001b[0m\u001b[1;33m,\u001b[0m\u001b[1;33m\n",
      "\u001b[0m    \u001b[0mtol\u001b[0m\u001b[1;33m=\u001b[0m\u001b[1;36m0.0001\u001b[0m\u001b[1;33m,\u001b[0m\u001b[1;33m\n",
      "\u001b[0m    \u001b[0mverbose\u001b[0m\u001b[1;33m=\u001b[0m\u001b[1;32mFalse\u001b[0m\u001b[1;33m,\u001b[0m\u001b[1;33m\n",
      "\u001b[0m    \u001b[0mwarm_start\u001b[0m\u001b[1;33m=\u001b[0m\u001b[1;32mFalse\u001b[0m\u001b[1;33m,\u001b[0m\u001b[1;33m\n",
      "\u001b[0m    \u001b[0mmomentum\u001b[0m\u001b[1;33m=\u001b[0m\u001b[1;36m0.9\u001b[0m\u001b[1;33m,\u001b[0m\u001b[1;33m\n",
      "\u001b[0m    \u001b[0mnesterovs_momentum\u001b[0m\u001b[1;33m=\u001b[0m\u001b[1;32mTrue\u001b[0m\u001b[1;33m,\u001b[0m\u001b[1;33m\n",
      "\u001b[0m    \u001b[0mearly_stopping\u001b[0m\u001b[1;33m=\u001b[0m\u001b[1;32mFalse\u001b[0m\u001b[1;33m,\u001b[0m\u001b[1;33m\n",
      "\u001b[0m    \u001b[0mvalidation_fraction\u001b[0m\u001b[1;33m=\u001b[0m\u001b[1;36m0.1\u001b[0m\u001b[1;33m,\u001b[0m\u001b[1;33m\n",
      "\u001b[0m    \u001b[0mbeta_1\u001b[0m\u001b[1;33m=\u001b[0m\u001b[1;36m0.9\u001b[0m\u001b[1;33m,\u001b[0m\u001b[1;33m\n",
      "\u001b[0m    \u001b[0mbeta_2\u001b[0m\u001b[1;33m=\u001b[0m\u001b[1;36m0.999\u001b[0m\u001b[1;33m,\u001b[0m\u001b[1;33m\n",
      "\u001b[0m    \u001b[0mepsilon\u001b[0m\u001b[1;33m=\u001b[0m\u001b[1;36m1e-08\u001b[0m\u001b[1;33m,\u001b[0m\u001b[1;33m\n",
      "\u001b[0m    \u001b[0mn_iter_no_change\u001b[0m\u001b[1;33m=\u001b[0m\u001b[1;36m10\u001b[0m\u001b[1;33m,\u001b[0m\u001b[1;33m\n",
      "\u001b[0m    \u001b[0mmax_fun\u001b[0m\u001b[1;33m=\u001b[0m\u001b[1;36m15000\u001b[0m\u001b[1;33m,\u001b[0m\u001b[1;33m\n",
      "\u001b[0m\u001b[1;33m)\u001b[0m\u001b[1;33m\u001b[0m\u001b[1;33m\u001b[0m\u001b[0m\n",
      "\u001b[1;31mDocstring:\u001b[0m     \n",
      "Multi-layer Perceptron classifier.\n",
      "\n",
      "This model optimizes the log-loss function using LBFGS or stochastic\n",
      "gradient descent.\n",
      "\n",
      ".. versionadded:: 0.18\n",
      "\n",
      "Parameters\n",
      "----------\n",
      "hidden_layer_sizes : tuple, length = n_layers - 2, default=(100,)\n",
      "    The ith element represents the number of neurons in the ith\n",
      "    hidden layer.\n",
      "\n",
      "activation : {'identity', 'logistic', 'tanh', 'relu'}, default='relu'\n",
      "    Activation function for the hidden layer.\n",
      "\n",
      "    - 'identity', no-op activation, useful to implement linear bottleneck,\n",
      "      returns f(x) = x\n",
      "\n",
      "    - 'logistic', the logistic sigmoid function,\n",
      "      returns f(x) = 1 / (1 + exp(-x)).\n",
      "\n",
      "    - 'tanh', the hyperbolic tan function,\n",
      "      returns f(x) = tanh(x).\n",
      "\n",
      "    - 'relu', the rectified linear unit function,\n",
      "      returns f(x) = max(0, x)\n",
      "\n",
      "solver : {'lbfgs', 'sgd', 'adam'}, default='adam'\n",
      "    The solver for weight optimization.\n",
      "\n",
      "    - 'lbfgs' is an optimizer in the family of quasi-Newton methods.\n",
      "\n",
      "    - 'sgd' refers to stochastic gradient descent.\n",
      "\n",
      "    - 'adam' refers to a stochastic gradient-based optimizer proposed\n",
      "      by Kingma, Diederik, and Jimmy Ba\n",
      "\n",
      "    Note: The default solver 'adam' works pretty well on relatively\n",
      "    large datasets (with thousands of training samples or more) in terms of\n",
      "    both training time and validation score.\n",
      "    For small datasets, however, 'lbfgs' can converge faster and perform\n",
      "    better.\n",
      "\n",
      "alpha : float, default=0.0001\n",
      "    L2 penalty (regularization term) parameter.\n",
      "\n",
      "batch_size : int, default='auto'\n",
      "    Size of minibatches for stochastic optimizers.\n",
      "    If the solver is 'lbfgs', the classifier will not use minibatch.\n",
      "    When set to \"auto\", `batch_size=min(200, n_samples)`.\n",
      "\n",
      "learning_rate : {'constant', 'invscaling', 'adaptive'}, default='constant'\n",
      "    Learning rate schedule for weight updates.\n",
      "\n",
      "    - 'constant' is a constant learning rate given by\n",
      "      'learning_rate_init'.\n",
      "\n",
      "    - 'invscaling' gradually decreases the learning rate at each\n",
      "      time step 't' using an inverse scaling exponent of 'power_t'.\n",
      "      effective_learning_rate = learning_rate_init / pow(t, power_t)\n",
      "\n",
      "    - 'adaptive' keeps the learning rate constant to\n",
      "      'learning_rate_init' as long as training loss keeps decreasing.\n",
      "      Each time two consecutive epochs fail to decrease training loss by at\n",
      "      least tol, or fail to increase validation score by at least tol if\n",
      "      'early_stopping' is on, the current learning rate is divided by 5.\n",
      "\n",
      "    Only used when ``solver='sgd'``.\n",
      "\n",
      "learning_rate_init : float, default=0.001\n",
      "    The initial learning rate used. It controls the step-size\n",
      "    in updating the weights. Only used when solver='sgd' or 'adam'.\n",
      "\n",
      "power_t : float, default=0.5\n",
      "    The exponent for inverse scaling learning rate.\n",
      "    It is used in updating effective learning rate when the learning_rate\n",
      "    is set to 'invscaling'. Only used when solver='sgd'.\n",
      "\n",
      "max_iter : int, default=200\n",
      "    Maximum number of iterations. The solver iterates until convergence\n",
      "    (determined by 'tol') or this number of iterations. For stochastic\n",
      "    solvers ('sgd', 'adam'), note that this determines the number of epochs\n",
      "    (how many times each data point will be used), not the number of\n",
      "    gradient steps.\n",
      "\n",
      "shuffle : bool, default=True\n",
      "    Whether to shuffle samples in each iteration. Only used when\n",
      "    solver='sgd' or 'adam'.\n",
      "\n",
      "random_state : int, RandomState instance, default=None\n",
      "    Determines random number generation for weights and bias\n",
      "    initialization, train-test split if early stopping is used, and batch\n",
      "    sampling when solver='sgd' or 'adam'.\n",
      "    Pass an int for reproducible results across multiple function calls.\n",
      "    See :term:`Glossary <random_state>`.\n",
      "\n",
      "tol : float, default=1e-4\n",
      "    Tolerance for the optimization. When the loss or score is not improving\n",
      "    by at least ``tol`` for ``n_iter_no_change`` consecutive iterations,\n",
      "    unless ``learning_rate`` is set to 'adaptive', convergence is\n",
      "    considered to be reached and training stops.\n",
      "\n",
      "verbose : bool, default=False\n",
      "    Whether to print progress messages to stdout.\n",
      "\n",
      "warm_start : bool, default=False\n",
      "    When set to True, reuse the solution of the previous\n",
      "    call to fit as initialization, otherwise, just erase the\n",
      "    previous solution. See :term:`the Glossary <warm_start>`.\n",
      "\n",
      "momentum : float, default=0.9\n",
      "    Momentum for gradient descent update. Should be between 0 and 1. Only\n",
      "    used when solver='sgd'.\n",
      "\n",
      "nesterovs_momentum : bool, default=True\n",
      "    Whether to use Nesterov's momentum. Only used when solver='sgd' and\n",
      "    momentum > 0.\n",
      "\n",
      "early_stopping : bool, default=False\n",
      "    Whether to use early stopping to terminate training when validation\n",
      "    score is not improving. If set to true, it will automatically set\n",
      "    aside 10% of training data as validation and terminate training when\n",
      "    validation score is not improving by at least tol for\n",
      "    ``n_iter_no_change`` consecutive epochs. The split is stratified,\n",
      "    except in a multilabel setting.\n",
      "    If early stopping is False, then the training stops when the training\n",
      "    loss does not improve by more than tol for n_iter_no_change consecutive\n",
      "    passes over the training set.\n",
      "    Only effective when solver='sgd' or 'adam'.\n",
      "\n",
      "validation_fraction : float, default=0.1\n",
      "    The proportion of training data to set aside as validation set for\n",
      "    early stopping. Must be between 0 and 1.\n",
      "    Only used if early_stopping is True.\n",
      "\n",
      "beta_1 : float, default=0.9\n",
      "    Exponential decay rate for estimates of first moment vector in adam,\n",
      "    should be in [0, 1). Only used when solver='adam'.\n",
      "\n",
      "beta_2 : float, default=0.999\n",
      "    Exponential decay rate for estimates of second moment vector in adam,\n",
      "    should be in [0, 1). Only used when solver='adam'.\n",
      "\n",
      "epsilon : float, default=1e-8\n",
      "    Value for numerical stability in adam. Only used when solver='adam'.\n",
      "\n",
      "n_iter_no_change : int, default=10\n",
      "    Maximum number of epochs to not meet ``tol`` improvement.\n",
      "    Only effective when solver='sgd' or 'adam'.\n",
      "\n",
      "    .. versionadded:: 0.20\n",
      "\n",
      "max_fun : int, default=15000\n",
      "    Only used when solver='lbfgs'. Maximum number of loss function calls.\n",
      "    The solver iterates until convergence (determined by 'tol'), number\n",
      "    of iterations reaches max_iter, or this number of loss function calls.\n",
      "    Note that number of loss function calls will be greater than or equal\n",
      "    to the number of iterations for the `MLPClassifier`.\n",
      "\n",
      "    .. versionadded:: 0.22\n",
      "\n",
      "Attributes\n",
      "----------\n",
      "classes_ : ndarray or list of ndarray of shape (n_classes,)\n",
      "    Class labels for each output.\n",
      "\n",
      "loss_ : float\n",
      "    The current loss computed with the loss function.\n",
      "\n",
      "best_loss_ : float\n",
      "    The minimum loss reached by the solver throughout fitting.\n",
      "\n",
      "loss_curve_ : list of shape (`n_iter_`,)\n",
      "    The ith element in the list represents the loss at the ith iteration.\n",
      "\n",
      "t_ : int\n",
      "    The number of training samples seen by the solver during fitting.\n",
      "\n",
      "coefs_ : list of shape (n_layers - 1,)\n",
      "    The ith element in the list represents the weight matrix corresponding\n",
      "    to layer i.\n",
      "\n",
      "intercepts_ : list of shape (n_layers - 1,)\n",
      "    The ith element in the list represents the bias vector corresponding to\n",
      "    layer i + 1.\n",
      "\n",
      "n_features_in_ : int\n",
      "    Number of features seen during :term:`fit`.\n",
      "\n",
      "    .. versionadded:: 0.24\n",
      "\n",
      "feature_names_in_ : ndarray of shape (`n_features_in_`,)\n",
      "    Names of features seen during :term:`fit`. Defined only when `X`\n",
      "    has feature names that are all strings.\n",
      "\n",
      "    .. versionadded:: 1.0\n",
      "\n",
      "n_iter_ : int\n",
      "    The number of iterations the solver has run.\n",
      "\n",
      "n_layers_ : int\n",
      "    Number of layers.\n",
      "\n",
      "n_outputs_ : int\n",
      "    Number of outputs.\n",
      "\n",
      "out_activation_ : str\n",
      "    Name of the output activation function.\n",
      "\n",
      "See Also\n",
      "--------\n",
      "MLPRegressor : Multi-layer Perceptron regressor.\n",
      "BernoulliRBM : Bernoulli Restricted Boltzmann Machine (RBM).\n",
      "\n",
      "Notes\n",
      "-----\n",
      "MLPClassifier trains iteratively since at each time step\n",
      "the partial derivatives of the loss function with respect to the model\n",
      "parameters are computed to update the parameters.\n",
      "\n",
      "It can also have a regularization term added to the loss function\n",
      "that shrinks model parameters to prevent overfitting.\n",
      "\n",
      "This implementation works with data represented as dense numpy arrays or\n",
      "sparse scipy arrays of floating point values.\n",
      "\n",
      "References\n",
      "----------\n",
      "Hinton, Geoffrey E.\n",
      "    \"Connectionist learning procedures.\" Artificial intelligence 40.1\n",
      "    (1989): 185-234.\n",
      "\n",
      "Glorot, Xavier, and Yoshua Bengio. \"Understanding the difficulty of\n",
      "    training deep feedforward neural networks.\" International Conference\n",
      "    on Artificial Intelligence and Statistics. 2010.\n",
      "\n",
      "He, Kaiming, et al. \"Delving deep into rectifiers: Surpassing human-level\n",
      "    performance on imagenet classification.\" arXiv preprint\n",
      "    arXiv:1502.01852 (2015).\n",
      "\n",
      "Kingma, Diederik, and Jimmy Ba. \"Adam: A method for stochastic\n",
      "    optimization.\" arXiv preprint arXiv:1412.6980 (2014).\n",
      "\n",
      "Examples\n",
      "--------\n",
      ">>> from sklearn.neural_network import MLPClassifier\n",
      ">>> from sklearn.datasets import make_classification\n",
      ">>> from sklearn.model_selection import train_test_split\n",
      ">>> X, y = make_classification(n_samples=100, random_state=1)\n",
      ">>> X_train, X_test, y_train, y_test = train_test_split(X, y, stratify=y,\n",
      "...                                                     random_state=1)\n",
      ">>> clf = MLPClassifier(random_state=1, max_iter=300).fit(X_train, y_train)\n",
      ">>> clf.predict_proba(X_test[:1])\n",
      "array([[0.038..., 0.961...]])\n",
      ">>> clf.predict(X_test[:5, :])\n",
      "array([1, 0, 1, 0, 1])\n",
      ">>> clf.score(X_test, y_test)\n",
      "0.8...\n",
      "\u001b[1;31mFile:\u001b[0m           c:\\users\\leova\\anaconda3\\lib\\site-packages\\sklearn\\neural_network\\_multilayer_perceptron.py\n",
      "\u001b[1;31mType:\u001b[0m           ABCMeta\n",
      "\u001b[1;31mSubclasses:\u001b[0m     \n"
     ]
    }
   ],
   "source": [
    "MLPClassifier?"
   ]
  },
  {
   "cell_type": "code",
   "execution_count": 10,
   "metadata": {},
   "outputs": [
    {
     "name": "stdout",
     "output_type": "stream",
     "text": [
      "Iteration 1, loss = 0.30293168\n",
      "Iteration 2, loss = 0.29870722\n",
      "Iteration 3, loss = 0.29813710\n",
      "Iteration 4, loss = 0.29770843\n",
      "Iteration 5, loss = 0.29736986\n",
      "Iteration 6, loss = 0.29708370\n",
      "Iteration 7, loss = 0.29678903\n",
      "Iteration 8, loss = 0.29655239\n",
      "Iteration 9, loss = 0.29625942\n",
      "Iteration 10, loss = 0.29615045\n",
      "Iteration 11, loss = 0.29588726\n",
      "Iteration 12, loss = 0.29565604\n",
      "Training loss did not improve more than tol=0.010000 for 10 consecutive epochs. Stopping.\n"
     ]
    },
    {
     "data": {
      "text/plain": [
       "MLPClassifier(hidden_layer_sizes=(53, 53), max_iter=500, random_state=42,\n",
       "              tol=0.01, verbose=True)"
      ]
     },
     "execution_count": 10,
     "metadata": {},
     "output_type": "execute_result"
    }
   ],
   "source": [
    "mlp_classifier = MLPClassifier(hidden_layer_sizes = (53, 53), activation = 'relu', solver = 'adam', alpha = 0.0001, batch_size='auto', \n",
    "learning_rate='constant', learning_rate_init=0.001, max_iter = 500, tol = 0.01, random_state = 42, verbose = True)\n",
    "mlp_classifier.fit(x_train, y_train) "
   ]
  },
  {
   "cell_type": "code",
   "execution_count": 17,
   "metadata": {},
   "outputs": [
    {
     "name": "stdout",
     "output_type": "stream",
     "text": [
      "Função de Ativação na Camada de Saída: logistic\n",
      "Acurácia: 0.8698707243149626\n",
      "[[ 5270  7385]\n",
      " [ 3134 65046]]\n"
     ]
    }
   ],
   "source": [
    "predict = mlp_classifier.predict(x_test)\n",
    "print(f'Função de Ativação na Camada de Saída: {mlp_classifier.out_activation_}')\n",
    "acuracia = accuracy_score(y_test, predict)\n",
    "matriz_de_confusao = confusion_matrix(y_test, predict)\n",
    "\n",
    "print(f'Acurácia: {acuracia}')\n",
    "print(matriz_de_confusao)\n"
   ]
  },
  {
   "cell_type": "code",
   "execution_count": 18,
   "metadata": {},
   "outputs": [
    {
     "name": "stdout",
     "output_type": "stream",
     "text": [
      "Iteration 1, loss = 0.33774431\n",
      "Iteration 2, loss = 0.30534264\n",
      "Iteration 3, loss = 0.30264663\n",
      "Iteration 4, loss = 0.30142329\n",
      "Iteration 5, loss = 0.30067201\n",
      "Iteration 6, loss = 0.30021143\n",
      "Iteration 7, loss = 0.29987414\n",
      "Iteration 8, loss = 0.29963062\n",
      "Iteration 9, loss = 0.29944518\n",
      "Iteration 10, loss = 0.29929903\n",
      "Iteration 11, loss = 0.29917280\n",
      "Iteration 12, loss = 0.29906183\n",
      "Iteration 13, loss = 0.29898394\n",
      "Training loss did not improve more than tol=0.010000 for 10 consecutive epochs. Stopping.\n"
     ]
    },
    {
     "data": {
      "text/plain": [
       "MLPClassifier(hidden_layer_sizes=(53, 53), max_iter=500, random_state=42,\n",
       "              solver='sgd', tol=0.01, verbose=True)"
      ]
     },
     "execution_count": 18,
     "metadata": {},
     "output_type": "execute_result"
    }
   ],
   "source": [
    "mlp_classifier = MLPClassifier(hidden_layer_sizes = (53, 53), activation = 'relu', solver = 'sgd', alpha = 0.0001, batch_size='auto', \n",
    "learning_rate='constant', learning_rate_init=0.001, max_iter = 500, tol = 0.01, random_state = 42, verbose = True)\n",
    "mlp_classifier.fit(x_train, y_train) "
   ]
  },
  {
   "cell_type": "code",
   "execution_count": 19,
   "metadata": {},
   "outputs": [
    {
     "name": "stdout",
     "output_type": "stream",
     "text": [
      "Função de Ativação na Camada de Saída: logistic\n",
      "Acurácia: 0.8692274386095132\n",
      "[[ 5094  7561]\n",
      " [ 3010 65170]]\n"
     ]
    }
   ],
   "source": [
    "predict = mlp_classifier.predict(x_test)\n",
    "print(f'Função de Ativação na Camada de Saída: {mlp_classifier.out_activation_}')\n",
    "acuracia = accuracy_score(y_test, predict)\n",
    "matriz_de_confusao = confusion_matrix(y_test, predict)\n",
    "\n",
    "print(f'Acurácia: {acuracia}')\n",
    "print(matriz_de_confusao)"
   ]
  },
  {
   "attachments": {},
   "cell_type": "markdown",
   "metadata": {},
   "source": [
    "# <font color='red' style='font-size: 40px;'> 4.0) Redes Neurais Artificiais - Regressão  </font>\n",
    "\n"
   ]
  },
  {
   "cell_type": "markdown",
   "metadata": {},
   "source": [
    "## **Força Elástica**"
   ]
  },
  {
   "cell_type": "code",
   "execution_count": 26,
   "metadata": {},
   "outputs": [],
   "source": [
    "import pandas as pd \n",
    "import numpy as np\n",
    "import scipy as sp \n",
    "import matplotlib.pyplot as plt\n",
    "import seaborn as sns \n",
    "import warnings\n",
    "from sklearn.preprocessing import LabelEncoder, OneHotEncoder, StandardScaler\n",
    "from sklearn.model_selection import train_test_split, StratifiedKFold, cross_val_score\n",
    "from sklearn.compose import ColumnTransformer\n",
    "from sklearn.neural_network import MLPRegressor\n",
    "from sklearn.metrics import confusion_matrix, accuracy_score, classification_report\n",
    "\n",
    "%matplotlib inline\n",
    "sns.set()\n",
    "plt.rcParams['font.family'] = 'Arial'\n",
    "plt.rcParams['font.size'] = '14'\n",
    "plt.rcParams['figure.figsize'] = [10, 5]\n",
    "pd.set_option('display.max_rows', 100)\n",
    "pd.set_option('display.max_columns', 100)\n",
    "pd.set_option('display.float_format', lambda x: '%.2f' % x) # Tira os números do formato de Notação Científica\n",
    "np.set_printoptions(suppress=True) # Tira os números do formato de Notação Científica em Numpy Arrays\n",
    "warnings.filterwarnings('ignore') # Remove Warnings\n",
    "warnings.simplefilter(action='ignore', category=FutureWarning) # Retira Future Warnings"
   ]
  },
  {
   "cell_type": "code",
   "execution_count": 24,
   "metadata": {},
   "outputs": [
    {
     "name": "stdout",
     "output_type": "stream",
     "text": [
      "(26, 4)\n"
     ]
    },
    {
     "data": {
      "text/html": [
       "<div>\n",
       "<style scoped>\n",
       "    .dataframe tbody tr th:only-of-type {\n",
       "        vertical-align: middle;\n",
       "    }\n",
       "\n",
       "    .dataframe tbody tr th {\n",
       "        vertical-align: top;\n",
       "    }\n",
       "\n",
       "    .dataframe thead th {\n",
       "        text-align: right;\n",
       "    }\n",
       "</style>\n",
       "<table border=\"1\" class=\"dataframe\">\n",
       "  <thead>\n",
       "    <tr style=\"text-align: right;\">\n",
       "      <th></th>\n",
       "      <th>forca</th>\n",
       "      <th>L</th>\n",
       "      <th>x</th>\n",
       "      <th>K</th>\n",
       "    </tr>\n",
       "  </thead>\n",
       "  <tbody>\n",
       "    <tr>\n",
       "      <th>0</th>\n",
       "      <td>0.10</td>\n",
       "      <td>29.90</td>\n",
       "      <td>0.00</td>\n",
       "      <td>34.48</td>\n",
       "    </tr>\n",
       "    <tr>\n",
       "      <th>1</th>\n",
       "      <td>0.15</td>\n",
       "      <td>31.30</td>\n",
       "      <td>0.00</td>\n",
       "      <td>34.88</td>\n",
       "    </tr>\n",
       "    <tr>\n",
       "      <th>2</th>\n",
       "      <td>0.23</td>\n",
       "      <td>34.00</td>\n",
       "      <td>0.01</td>\n",
       "      <td>32.86</td>\n",
       "    </tr>\n",
       "    <tr>\n",
       "      <th>3</th>\n",
       "      <td>0.45</td>\n",
       "      <td>41.40</td>\n",
       "      <td>0.01</td>\n",
       "      <td>31.25</td>\n",
       "    </tr>\n",
       "    <tr>\n",
       "      <th>4</th>\n",
       "      <td>0.55</td>\n",
       "      <td>44.20</td>\n",
       "      <td>0.02</td>\n",
       "      <td>31.98</td>\n",
       "    </tr>\n",
       "  </tbody>\n",
       "</table>\n",
       "</div>"
      ],
      "text/plain": [
       "   forca     L    x     K\n",
       "0   0.10 29.90 0.00 34.48\n",
       "1   0.15 31.30 0.00 34.88\n",
       "2   0.23 34.00 0.01 32.86\n",
       "3   0.45 41.40 0.01 31.25\n",
       "4   0.55 44.20 0.02 31.98"
      ]
     },
     "execution_count": 24,
     "metadata": {},
     "output_type": "execute_result"
    }
   ],
   "source": [
    "rigidez = pd.read_csv('mola.csv', sep=',', encoding='iso-8859-1')\n",
    "rigidez.drop('cargas', axis=1, inplace = True)\n",
    "rigidez.drop('Lo',axis=1, inplace = True)\n",
    "print(rigidez.shape)\n",
    "rigidez.head()"
   ]
  },
  {
   "cell_type": "code",
   "execution_count": 25,
   "metadata": {},
   "outputs": [],
   "source": [
    "x = rigidez.iloc[:, 2:3].values\n",
    "y = rigidez.iloc[:, 0:1].values\n"
   ]
  },
  {
   "cell_type": "code",
   "execution_count": 28,
   "metadata": {},
   "outputs": [
    {
     "data": {
      "text/plain": [
       "MLPRegressor(activation='identity', alpha=0.001, hidden_layer_sizes=(26, 26),\n",
       "             max_iter=500, random_state=42, solver='lbfgs', tol=0.01,\n",
       "             verbose=True)"
      ]
     },
     "execution_count": 28,
     "metadata": {},
     "output_type": "execute_result"
    }
   ],
   "source": [
    "mlp_regressor = MLPRegressor(hidden_layer_sizes = (26, 26), activation = 'identity', solver = 'lbfgs', alpha = 0.001, batch_size= 'auto', \n",
    "learning_rate='constant', learning_rate_init=0.001, max_iter = 500, tol = 0.01, random_state = 42, verbose = True)\n",
    "mlp_regressor.fit(x, y) "
   ]
  },
  {
   "cell_type": "code",
   "execution_count": 30,
   "metadata": {},
   "outputs": [
    {
     "name": "stdout",
     "output_type": "stream",
     "text": [
      "Número de Camadas (contando camadas de entrada, camadas ocultas e camadas de saída): 4\n"
     ]
    }
   ],
   "source": [
    "print(f'Número de Camadas (contando camadas de entrada, camadas ocultas e camadas de saída): {mlp_regressor.n_layers_}')"
   ]
  },
  {
   "cell_type": "code",
   "execution_count": null,
   "metadata": {},
   "outputs": [],
   "source": []
  },
  {
   "cell_type": "code",
   "execution_count": null,
   "metadata": {},
   "outputs": [],
   "source": []
  },
  {
   "cell_type": "code",
   "execution_count": null,
   "metadata": {},
   "outputs": [],
   "source": []
  },
  {
   "cell_type": "code",
   "execution_count": null,
   "metadata": {},
   "outputs": [],
   "source": []
  },
  {
   "cell_type": "code",
   "execution_count": null,
   "metadata": {},
   "outputs": [],
   "source": []
  },
  {
   "cell_type": "code",
   "execution_count": null,
   "metadata": {},
   "outputs": [],
   "source": []
  },
  {
   "cell_type": "code",
   "execution_count": null,
   "metadata": {},
   "outputs": [],
   "source": []
  },
  {
   "cell_type": "code",
   "execution_count": null,
   "metadata": {},
   "outputs": [],
   "source": []
  },
  {
   "cell_type": "code",
   "execution_count": null,
   "metadata": {},
   "outputs": [],
   "source": []
  }
 ],
 "metadata": {
  "kernelspec": {
   "display_name": "base",
   "language": "python",
   "name": "python3"
  },
  "language_info": {
   "codemirror_mode": {
    "name": "ipython",
    "version": 3
   },
   "file_extension": ".py",
   "mimetype": "text/x-python",
   "name": "python",
   "nbconvert_exporter": "python",
   "pygments_lexer": "ipython3",
   "version": "3.9.12"
  },
  "orig_nbformat": 4,
  "vscode": {
   "interpreter": {
    "hash": "5a9a036f549c34521959f2e35c11282d59c2fa6997060d671aa6f29f1c44b680"
   }
  }
 },
 "nbformat": 4,
 "nbformat_minor": 2
}
